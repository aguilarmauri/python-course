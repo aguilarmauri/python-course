{
 "cells": [
  {
   "cell_type": "markdown",
   "metadata": {
    "collapsed": true
   },
   "source": [
    "Crear nuevo modulo python libreria.py\n",
    "Definir la clase Libro, Autor, donde un libro puede tener varios autores y un autor puede tener varios libros.\n",
    " Libro tiene:\n",
    "  fecha publicacion,\n",
    "  ISBN (código)\n",
    "  editorial\n",
    "  titulo\n",
    "  autores\n",
    "  cantidad de paginas\n",
    "  precio\n",
    " Autor tiene:\n",
    "  Nombre\n",
    "  Apellido\n",
    "  DNI\n",
    "  Nacionalidad\n",
    "  libros\n",
    " Se define el metodo \"agregar_libro\" a la clase Autor que toma como argumento\n",
    " un libro y lo agrega a la variable libros de ese Autor.\n"
   ]
  },
  {
   "cell_type": "heading",
   "metadata": {},
   "level": 1,
   "source": [
    "Definición de la clase Autor"
   ]
  },
  {
   "cell_type": "code",
   "execution_count": 1,
   "metadata": {},
   "outputs": [],
   "source": [
    "class Autor(object):\n",
    "\n",
    "    def __init__(self, nombre, apellido, dni, nacionalidad, libros: list):\n",
    "        self.nombre = nombre\n",
    "        self.apellido = apellido\n",
    "        self.dni = dni\n",
    "        self.nacionalidad = nacionalidad\n",
    "        assert type(libros) == list\n",
    "        self.libros = libros\n",
    "\n",
    "    def get_nombre_completo(self):\n",
    "        return f\"{self.nombre}, {self.apellido}\"\n",
    "\n",
    "    def agregar_libro(self, libro):\n",
    "        self.libros.append(libro)\n",
    "\n",
    "    def __str__(self):\n",
    "        return f\"Autor {self.nombre}, {self.apellido} tiene {len(self.libros)} libros.\"\n"
   ]
  },
  {
   "cell_type": "heading",
   "metadata": {},
   "level": 1,
   "source": [
    "Definición de la clase Libro"
   ]
  },
  {
   "cell_type": "code",
   "execution_count": 2,
   "metadata": {},
   "outputs": [],
   "source": [
    "class Libro(object):\n",
    "    def __init__(self, titulo, isbn, fecha_publicacion, cantidad_de_paginas, editorial, precio, autores: list):\n",
    "        self.fecha_publicacion = fecha_publicacion\n",
    "        self.isbn = isbn\n",
    "        self.editorial = editorial\n",
    "        self.titulo = titulo\n",
    "        self.cantidad_de_paginas = cantidad_de_paginas\n",
    "        self.precio = precio\n",
    "        self.autores = autores\n",
    "\n",
    "    def __str__(self):\n",
    "        return f\"{self.titulo} {self.isbn}, escrito por {[autor.get_nombre_completo() for autor in self.autores]}\"\n",
    "\n",
    "    def agregar_autor(self, autor):\n",
    "        self.autores.append(autor)"
   ]
  },
  {
   "cell_type": "heading",
   "metadata": {},
   "level": 2,
   "source": [
    "Instanciacion de las clases para crear objetos de Libro y Autor."
   ]
  },
  {
   "cell_type": "code",
   "execution_count": 4,
   "metadata": {},
   "outputs": [],
   "source": [
    "autor_1 = Autor(\n",
    "    \"Gabriel\",\n",
    "    \"García Márquez\",\n",
    "    \"20123123\",\n",
    "    \"Colombia\",\n",
    "    []\n",
    ")"
   ]
  },
  {
   "cell_type": "code",
   "execution_count": 5,
   "metadata": {},
   "outputs": [],
   "source": [
    "libro_1 = Libro(\n",
    "    \"CIEN AÑOS DE SOLEDAD\",\n",
    "    \"978-84-9759-220-8\",\n",
    "    \"06-06-2014\",\n",
    "    496,\n",
    "    \"DEBOLSILLO\",\n",
    "    302.42,\n",
    "    []\n",
    ")"
   ]
  },
  {
   "cell_type": "heading",
   "metadata": {},
   "level": 2,
   "source": [
    "Agregar libro y autor a cada objeto respectivamente!"
   ]
  },
  {
   "cell_type": "code",
   "execution_count": 6,
   "metadata": {},
   "outputs": [],
   "source": [
    "autor_1.agregar_libro(libro_1)\n",
    "libro_1.agregar_autor(autor_1)"
   ]
  },
  {
   "cell_type": "code",
   "execution_count": null,
   "metadata": {},
   "outputs": [],
   "source": []
  }
 ],
 "metadata": {
  "kernelspec": {
   "display_name": "Python 2",
   "language": "python",
   "name": "python2"
  },
  "language_info": {
   "codemirror_mode": {
    "name": "ipython",
    "version": 2
   },
   "file_extension": ".py",
   "mimetype": "text/x-python",
   "name": "python",
   "nbconvert_exporter": "python",
   "pygments_lexer": "ipython2",
   "version": "2.7.6"
  }
 },
 "nbformat": 4,
 "nbformat_minor": 0
}
