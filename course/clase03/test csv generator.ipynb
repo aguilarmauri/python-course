{
 "cells": [
  {
   "cell_type": "code",
   "execution_count": 1,
   "metadata": {},
   "outputs": [],
   "source": [
    "import requests\n",
    "import csv"
   ]
  },
  {
   "cell_type": "code",
   "execution_count": 2,
   "metadata": {},
   "outputs": [],
   "source": [
    "def generate_user():\n",
    "    # Solicitamos un usuario random\n",
    "    data = requests.get(\"https://randomuser.me/api/\")\n",
    "    # la respuesta es un json\n",
    "    response = data.json()\n",
    "    # obtenemos los resulados\n",
    "    results = response[\"results\"]\n",
    "    # nos quedamos con el primero (unico)\n",
    "    user = results[0]\n",
    "    # generamos nombre, email, avatar y celular\n",
    "    name = \"{} {}\".format(user[\"name\"][\"first\"], user[\"name\"][\"last\"])\n",
    "    email = user[\"email\"]\n",
    "    picture = user[\"picture\"][\"thumbnail\"]\n",
    "    cell = user[\"cell\"]\n",
    "    return [name, email, picture, cell]"
   ]
  },
  {
   "cell_type": "code",
   "execution_count": 3,
   "metadata": {},
   "outputs": [],
   "source": [
    "# Escribimos un csv con estos datos\n",
    "with open('test.csv', 'w', newline='') as csvfile:\n",
    "    writer = csv.writer(csvfile)\n",
    "    # generamos 20 usuarios random\n",
    "    for i in range(20):\n",
    "        user = generate_user()\n",
    "        # los escribimos en el csv\n",
    "        writer.writerow(user)"
   ]
  },
  {
   "cell_type": "code",
   "execution_count": null,
   "metadata": {},
   "outputs": [],
   "source": []
  }
 ],
 "metadata": {
  "kernelspec": {
   "display_name": "Python 3",
   "language": "python",
   "name": "python3"
  },
  "language_info": {
   "codemirror_mode": {
    "name": "ipython",
    "version": 3
   },
   "file_extension": ".py",
   "mimetype": "text/x-python",
   "name": "python",
   "nbconvert_exporter": "python",
   "pygments_lexer": "ipython3",
   "version": "3.7.3"
  }
 },
 "nbformat": 4,
 "nbformat_minor": 2
}
