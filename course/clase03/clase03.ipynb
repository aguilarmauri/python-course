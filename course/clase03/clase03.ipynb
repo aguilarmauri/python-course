{
 "cells": [
  {
   "cell_type": "code",
   "execution_count": 1,
   "metadata": {},
   "outputs": [],
   "source": [
    "import csv"
   ]
  },
  {
   "cell_type": "code",
   "execution_count": 2,
   "metadata": {},
   "outputs": [],
   "source": [
    "# declaramos lista vacia\n",
    "data = []\n",
    "# abrimos archivos test.csv en modo lectura (\"r\") lo asignamos a \n",
    "# la variable csvfile\n",
    "with open(\"./test.csv\", \"r\") as csvfile:\n",
    "    # leemos el contenido de csvfile y lo parseamos como csv\n",
    "    # csv = comma separated value\n",
    "    csv_reader = csv.reader(csvfile)\n",
    "    # recorremos todas la filas\n",
    "    for row in csv_reader:\n",
    "        # las agregamos a la lista data\n",
    "        data.append(row)"
   ]
  },
  {
   "cell_type": "markdown",
   "metadata": {},
   "source": [
    "Tarea:\n",
    "=====\n",
    "\n",
    "1- Se debe crear clase estudiante que en su constructor tome como parametro:\n",
    "* Nombre\n",
    "* Email\n",
    "* Github\n",
    "* Numero de telefono\n",
    "* Ignorar los ultimos dos datos (Whatsapp y Telegram)\n",
    "\n",
    "2- Leer csv y generar instancias de estudiante a partir de las columnas leidas"
   ]
  },
  {
   "cell_type": "code",
   "execution_count": null,
   "metadata": {},
   "outputs": [
    {
     "name": "stdout",
     "output_type": "stream",
     "text": [
      "[['Francisco Casse', 'panchocasse@gmail.com', 'https://github.com/topopox', '3854201483', '385401483', '3854201483'], ['Romina Beccaria', 'romibeccaria1@gmail.com', 'https://github.com/RomiBecc', '3516609777', '3516609777', '3516609777'], ['Candellero Gonzalo', 'gonza_la24@hotmail.com', '', '351-3678516', '351-3678516', '351-3678516'], ['Mauricio Aguilar', 'aguilarmauri@gmail.com', 'https://github.com/mauriaguilar', '3513195143', '3513195143', '3513195143'], ['Matías Ortíz', 'tikithorsen@hotmail.com', 'https://github.com/TikiThorsen', '3517736918', '3517736918', '3517796918'], ['Emiliano Raparo', 'eraparo@gmail.com', '', '3516153711', '3516153711', '3516153711'], ['Federico M. Roux Araya', 'federicoroux@gmail.com', 'https://github.com/FedericoRoux', '3516667832', '3516667832', '3516667832'], ['renzo gastón bernal', 'renzo.g.bernal@gmail.com', '', '3512696068', '3512696068', '3512696068'], ['Gabriel S.Gonzalez', 'gabrielsebastian@gmail.com', 'https://github.com/gabrielsebagonzalez', '3516759791', '', '3516759791'], ['Nicolas Martin Raffa', 'martinraffa22@gmail.com', 'https://github.com/martinraffa22', '3884478298', '', '3884478298'], ['Rivero Romina', 'romina_rivero10@hotmail.com', '', '2974098564', '2974098564', '2974098564'], ['Juan pablo palma', 'palmajup@gmail.com', 'https://github.com/palmajup', '3516143824', '', '3516143824'], ['Jonathan Daniel Pereyra', 'jonathandpereyra@gmail.com', '', '3512388954', '', '3512388954'], ['Agostina Abayay', 'agostinaabayay@gmail.com', 'https://github.com/agosabayay', '3512108947', '', '5493512108947'], ['Marcelo Carrasco', 'marceloacarrasco@gmail.com', 'https://github.com/marcelocarrasco/', '24944664105', '', '2494466105'], ['Malena caiado rojo', 'malenaelizabethcaiadorojo@gmail.com', '', '351 858-8789', '', '351 858-8789'], ['Silvina Amaya', 'amayasilvinah@gmail.com', 'https://github.com/SilvinaHamaya', '3513992931', '', '3513992931'], ['Sierra, Roger Eduardo', 'roii.sierra@hotmail.com', 'https://github.com/roiicba', '3512117962', '', '3512117962'], ['Gastón Rosso', 'gastonrossoinc@gmail.com', 'https://github.com/rossog', '3537551590', '3537551590', '3537551590'], ['Luciano Fernandez Oria', 'luciano.fernandez@incluit.com', 'https://github.com/luchostem', '3515227275', '-', '-']]\n"
     ]
    }
   ],
   "source": [
    "# imprimimos data\n",
    "print(data)"
   ]
  },
  {
   "cell_type": "code",
   "execution_count": null,
   "metadata": {},
   "outputs": [],
   "source": []
  }
 ],
 "metadata": {
  "kernelspec": {
   "display_name": "Python 3",
   "language": "python",
   "name": "python3"
  },
  "language_info": {
   "codemirror_mode": {
    "name": "ipython",
    "version": 3
   },
   "file_extension": ".py",
   "mimetype": "text/x-python",
   "name": "python",
   "nbconvert_exporter": "python",
   "pygments_lexer": "ipython3",
   "version": "3.7.3"
  }
 },
 "nbformat": 4,
 "nbformat_minor": 2
}
