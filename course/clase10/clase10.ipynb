{
 "cells": [
  {
   "cell_type": "markdown",
   "metadata": {},
   "source": [
    "# Proyecto final parte 1"
   ]
  },
  {
   "cell_type": "markdown",
   "metadata": {},
   "source": [
    "## Introduccion"
   ]
  },
  {
   "cell_type": "markdown",
   "metadata": {},
   "source": [
    "Este es un proyecto para crear un software que según las necesidades del cliente deberá realizar un control sobre los movimientos comerciales de las existencias de una kiosco que en el momento lleva dicho control de forma manual perdiendo tiempo y recursos económicos importantes, el cliente además ha solicitado que el software también le controle la parte que tiene que ver con la nómina y el pago a los proveedores de la mercancía. Escuchadas las necesidades del cliente se hizo un levantamiento de requisitos, se identificó el problema y se establecieron las prioridades para darle paso a la recolección de información, su clasificación y posterior elaboración de un prototipo que permita llevar a cabo este proyecto."
   ]
  },
  {
   "cell_type": "markdown",
   "metadata": {},
   "source": [
    "## Definición del problema."
   ]
  },
  {
   "cell_type": "markdown",
   "metadata": {},
   "source": [
    "Un kiosco maneja una gran cantidad de artículos como galletas, golosinas, caramelos, etc. Pero también maneja la rentabilidad del negocio o local, el control del inventario, ventas, ingresos, consultas de lo que se vende y no se vende."
   ]
  },
  {
   "cell_type": "markdown",
   "metadata": {},
   "source": [
    "## Requisito funcional"
   ]
  },
  {
   "cell_type": "markdown",
   "metadata": {},
   "source": [
    "## Requisito funcional 1:\n",
    "Validar usuario para entrar al sistema.\n",
    "\n",
    "#### Entradas:\n",
    "Usuario y contraseña desde el admin de django\n",
    "\n",
    "#### Procesos:\n",
    "El sistema validara los datos ingresados que sean correctos realizando una búsqueda en la Base de datos.\n",
    "\n",
    "#### Salidas:\n",
    "Se desplegara un mensaje de bienvenida al sistema.\n",
    "\n",
    "#### Error:\n",
    "Mostrara mensaje de error si los datos de código único de registro no son correctos."
   ]
  },
  {
   "cell_type": "markdown",
   "metadata": {},
   "source": [
    "## Requisito funcional 2:\n",
    "Creacion, consulta, actualizacion y borrado de un producto\n",
    "\n",
    "#### Entradas:\n",
    "Se debe poder ingresar/consultar/actualizar/borrar mediante el admin de django un producto con su nombre, descripcion, codigo de producto, este codigo de producto debe ser unico, precio sugerido de venta(debe ser positivo).\n",
    "\n",
    "#### Procesos:\n",
    "\n",
    "El sistema validara si los datos ingresados son correctos y actualizara la db.\n",
    "\n",
    "#### Salidas:\n",
    "Se debe mostrar el producto creado/consultado/actualizado/eliminado.\n",
    "\n",
    "#### Error:\n",
    "Se debe mostar un mensaje de error adecuado."
   ]
  },
  {
   "cell_type": "markdown",
   "metadata": {},
   "source": [
    "## Requisito funcional 3:\n",
    "Se debe generar una API RESTful para consultar la lista de productos cargados en la db, se debe poder filtrar mediante codigo de producto\n",
    "\n",
    "#### Entradas:\n",
    "Codigo unico de producto o ningun parametro.\n",
    "\n",
    "#### Procesos:\n",
    "El sistema validara si los datos ingresados son correctos y generara la consulta en la db.\n",
    "\n",
    "#### Salidas:\n",
    "Se mostrara el producto correspondiente al codigo de producto consultado o todos los productos si no se provee este codigo.\n",
    "\n",
    "#### Error:\n",
    "Se debe mostar un mensaje de error adecuado."
   ]
  }
 ],
 "metadata": {
  "kernelspec": {
   "display_name": "Python 3",
   "language": "python",
   "name": "python3"
  },
  "language_info": {
   "codemirror_mode": {
    "name": "ipython",
    "version": 3
   },
   "file_extension": ".py",
   "mimetype": "text/x-python",
   "name": "python",
   "nbconvert_exporter": "python",
   "pygments_lexer": "ipython3",
   "version": "3.7.3"
  }
 },
 "nbformat": 4,
 "nbformat_minor": 2
}
