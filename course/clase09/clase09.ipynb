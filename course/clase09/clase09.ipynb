{
 "cells": [
  {
   "cell_type": "markdown",
   "metadata": {},
   "source": [
    "# Proveer servicos RESTful en Django"
   ]
  },
  {
   "cell_type": "markdown",
   "metadata": {},
   "source": [
    "# ¿Que es un web service?"
   ]
  },
  {
   "cell_type": "markdown",
   "metadata": {},
   "source": [
    "Primero definamos que es un `web service`.\n",
    "\n",
    "Un `web service` es un programa, diseñado para el intercambio de información máquina a máquina, sobre una red.\n",
    "\n",
    "Entonces esto hace que una computadora o programa pueda solicitar y recibir información de otra computadora o programa. A quien solicita la información se le llama cliente y a quien envía la información se le llama servidor."
   ]
  },
  {
   "cell_type": "markdown",
   "metadata": {},
   "source": [
    "# ¿Qué es API?"
   ]
  },
  {
   "cell_type": "markdown",
   "metadata": {},
   "source": [
    "La palabra viene de `Application Programming Interface`, y no es más que un programa que permite que otros programas se comuniquen con un programa en específico, por ejemplo Facebook.\n",
    "\n",
    "A diferencia de los web services, las API no necesariamente deben comunicarse entre una red, pueden usarse entre dos aplicaciones en una misma computadora."
   ]
  },
  {
   "cell_type": "markdown",
   "metadata": {},
   "source": [
    "# ¿REST vs RESTful?"
   ]
  },
  {
   "cell_type": "markdown",
   "metadata": {},
   "source": [
    "¿Qué es rest?, es una arquitectura para aplicaciones basadas en redes (como Internet), sus siglas significan `RE`presentational `S`tate `T`ransfer y por otro lado `RESTful web service` o `RESTful api`, son programas basados en `REST`. Pero muchas veces se usan como sinónimos (REST y RESTful)."
   ]
  },
  {
   "cell_type": "markdown",
   "metadata": {},
   "source": [
    "# ¿Que hace que un web service sea REST?"
   ]
  },
  {
   "cell_type": "markdown",
   "metadata": {},
   "source": [
    "Usualmente los RESTful web service tienen estas características:\n",
    "\n",
    "* Esta asociados a información\n",
    "* Permiten listar, crear, leer, actualizar y borrar información (`CRUD`)\n",
    "* Para las operaciones anteriores necesitan una `URL` y un método `HTTP` para accederlas\n",
    "* Usualmente regresan la información en formato `JSON` (o `XML`).\n",
    "* Retornan códigos de respuesta HTTP, por ejemplo 200, 201, 404, etc y cada codigo tiene un significado"
   ]
  },
  {
   "cell_type": "markdown",
   "metadata": {},
   "source": [
    "# Los métodos HTTP que usan son los siguientes"
   ]
  },
  {
   "cell_type": "markdown",
   "metadata": {},
   "source": [
    "Cuando solicitamos una pagina web, podemos hacer por diferentes métodos, el mas común es el `GET`, es el que usamos cuando digitamos una dirección en nuestro navegador, en ocasiones utilizamos `POST`, cuando enviamos un formulario con datos, pero las aplicaciones pueden usar otros métodos como `PATCH`, `PUT`, etc.\n",
    "\n",
    "* Listar y leer: Usan el método `GET`\n",
    "* Crear: Usan el método `POST`\n",
    "* Actualizar: Usan el método `PATCH` (Actualizacion parcial) para actualizar y `PUT` (Actualizacion total) para reemplazar.\n",
    "* Borrar: Usan el método `DELETE`"
   ]
  },
  {
   "cell_type": "markdown",
   "metadata": {},
   "source": [
    "# Algunos códigos de estado HTML"
   ]
  },
  {
   "cell_type": "markdown",
   "metadata": {},
   "source": [
    "Cuando se recibe una pagina HTML, también se recibe un código de estado HTML (solo uno), en los web service RESTful, estos se usan para saber el estado de la ejecución del servicio, y estos son algunos de los usados:\n",
    "\n",
    "* `200` (Ok), cuando una operación fue exitosa.\n",
    "* `201` (Created), cuando se creo un registro (recuerdan? con el método POST)\n",
    "* `403` (Forbidden), cuando intentamos leer un registro para el que no tenemos acceso, por ejemplo los datos del perfil de otro usuario.\n",
    "* `404` (Not found), cuando intentamos leer un registro que no existe.\n",
    "* `500` (Internal Server Error) Error interno del servidor, nos indica que hubo un error inesperado en el server."
   ]
  },
  {
   "cell_type": "markdown",
   "metadata": {},
   "source": [
    "# Clasificacion de códigos de estado HTTP"
   ]
  },
  {
   "cell_type": "markdown",
   "metadata": {},
   "source": [
    "* `1xx` (Informational): Petición recibida, continuando proceso\n",
    "* `2xx` (Successful): Esta clase de código de estado indica que la petición fue recibida correctamente, entendida y aceptada.\n",
    "* `3xx` (Redirection): El cliente tiene que tomar una acción adicional para completar la petición.\n",
    "* `4xx` (Client Error): La solicitud contiene sintaxis incorrecta o no puede procesarse.\n",
    "* `5xx` (Server Error): El servidor falló al completar una solicitud aparentemente válida.\n"
   ]
  },
  {
   "cell_type": "markdown",
   "metadata": {},
   "source": [
    "# Proveyendo servicios RESTful con Django"
   ]
  },
  {
   "cell_type": "markdown",
   "metadata": {},
   "source": [
    "Para proveer servicios REST en Django usaremos Django Rest Framework"
   ]
  },
  {
   "cell_type": "markdown",
   "metadata": {},
   "source": []
  },
  {
   "cell_type": "markdown",
   "metadata": {},
   "source": [
    "### Instalacion (por supuesto con `pip`)"
   ]
  },
  {
   "cell_type": "markdown",
   "metadata": {},
   "source": [
    "```bash\n",
    "pip install djangorestframework\n",
    "pip install markdown       # Markdown support for the browsable API.\n",
    "pip install django-filter  # Filtering support\n",
    "```"
   ]
  },
  {
   "cell_type": "markdown",
   "metadata": {},
   "source": [
    "`NOTA`: guardemos estos requerimientos en nuestro `requirements.txt`"
   ]
  },
  {
   "cell_type": "markdown",
   "metadata": {},
   "source": [
    "No olviden agregarlo a sus INSTALLED_APPS (en `settings.py`)"
   ]
  },
  {
   "cell_type": "markdown",
   "metadata": {},
   "source": [
    "```python\n",
    "INSTALLED_APPS = [\n",
    "    ...\n",
    "    'rest_framework',\n",
    "]\n",
    "```"
   ]
  },
  {
   "cell_type": "markdown",
   "metadata": {},
   "source": [
    "### Dicccionario de configuracion"
   ]
  },
  {
   "cell_type": "markdown",
   "metadata": {},
   "source": [
    "Django REST framework es configurable definiendo un diccionario(`REST_FRAMEWORK`) en el `settings.py`"
   ]
  },
  {
   "cell_type": "markdown",
   "metadata": {},
   "source": [
    "```python\n",
    "REST_FRAMEWORK = {\n",
    "    'DEFAULT_PERMISSION_CLASSES': [\n",
    "        'rest_framework.permissions.DjangoModelPermissionsOrAnonReadOnly'\n",
    "    ],\n",
    "    'DEFAULT_METADATA_CLASS': 'rest_framework.metadata.SimpleMetadata',\n",
    "    'DEFAULT_FILTER_BACKENDS': [\n",
    "        'rest_framework.filters.OrderingFilter'\n",
    "    ],\n",
    "    'DEFAULT_AUTHENTICATION_CLASSES': [\n",
    "        'rest_framework.authentication.SessionAuthentication',\n",
    "    ]\n",
    "}\n",
    "```"
   ]
  },
  {
   "cell_type": "code",
   "execution_count": null,
   "metadata": {},
   "outputs": [],
   "source": []
  }
 ],
 "metadata": {
  "kernelspec": {
   "display_name": "Python 3",
   "language": "python",
   "name": "python3"
  },
  "language_info": {
   "codemirror_mode": {
    "name": "ipython",
    "version": 3
   },
   "file_extension": ".py",
   "mimetype": "text/x-python",
   "name": "python",
   "nbconvert_exporter": "python",
   "pygments_lexer": "ipython3",
   "version": "3.7.3"
  }
 },
 "nbformat": 4,
 "nbformat_minor": 2
}
