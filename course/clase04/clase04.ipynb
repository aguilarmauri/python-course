{
 "cells": [
  {
   "cell_type": "code",
   "execution_count": 1,
   "metadata": {},
   "outputs": [],
   "source": [
    "import sqlite3"
   ]
  },
  {
   "cell_type": "code",
   "execution_count": 2,
   "metadata": {},
   "outputs": [],
   "source": [
    "conn = sqlite3.connect('own.db')"
   ]
  },
  {
   "cell_type": "code",
   "execution_count": 3,
   "metadata": {},
   "outputs": [],
   "source": [
    "cursor = conn.cursor()"
   ]
  },
  {
   "cell_type": "code",
   "execution_count": 8,
   "metadata": {},
   "outputs": [
    {
     "data": {
      "text/plain": [
       "<sqlite3.Cursor at 0x10bf93d50>"
      ]
     },
     "execution_count": 8,
     "metadata": {},
     "output_type": "execute_result"
    }
   ],
   "source": [
    "cursor.execute(\"drop table if exists alumno\")"
   ]
  },
  {
   "cell_type": "code",
   "execution_count": 9,
   "metadata": {
    "scrolled": true
   },
   "outputs": [
    {
     "data": {
      "text/plain": [
       "<sqlite3.Cursor at 0x10bf93d50>"
      ]
     },
     "execution_count": 9,
     "metadata": {},
     "output_type": "execute_result"
    }
   ],
   "source": [
    "cursor.execute(\"\"\"\n",
    "create table alumno (\n",
    "        id         int     primary key not NULL ,\n",
    "        first_name text,\n",
    "        last_name  text,\n",
    "        phone      text\n",
    ")\n",
    "\"\"\")"
   ]
  },
  {
   "cell_type": "code",
   "execution_count": 10,
   "metadata": {},
   "outputs": [],
   "source": [
    "conn.commit()"
   ]
  },
  {
   "cell_type": "code",
   "execution_count": 11,
   "metadata": {},
   "outputs": [
    {
     "data": {
      "text/plain": [
       "<sqlite3.Cursor at 0x10bf93d50>"
      ]
     },
     "execution_count": 11,
     "metadata": {},
     "output_type": "execute_result"
    }
   ],
   "source": [
    "cursor.execute(\"\"\"insert into alumno values (1, \"Pedro\", \"Gonzalez\", \"0351-12345678\")\"\"\")\n",
    "cursor.execute(\"\"\"insert into alumno values (2, \"Rodrigo\", \"Perez\", \"0351-12345678\")\"\"\")\n",
    "cursor.execute(\"\"\"insert into alumno values (3, \"Gonzalo\", \"Rodriguez\", \"0351-12345678\")\"\"\")"
   ]
  },
  {
   "cell_type": "code",
   "execution_count": 12,
   "metadata": {},
   "outputs": [],
   "source": [
    "conn.commit()"
   ]
  },
  {
   "cell_type": "code",
   "execution_count": 40,
   "metadata": {},
   "outputs": [
    {
     "name": "stdout",
     "output_type": "stream",
     "text": [
      "(2, 'Rodrigo', 'Perez', '0351-12345678')\n"
     ]
    }
   ],
   "source": [
    "for alumno in cursor.execute('SELECT * FROM alumno WHERE first_name LIKE \\'Rodrigo\\''):\n",
    "    print(alumno)"
   ]
  },
  {
   "cell_type": "code",
   "execution_count": 41,
   "metadata": {},
   "outputs": [
    {
     "name": "stdout",
     "output_type": "stream",
     "text": [
      "(3, 'Gonzalo', 'Rodriguez', '0351-12345678')\n",
      "(1, 'Pedro', 'Gonzalez', '0351-12345678')\n",
      "(2, 'Rodrigo', 'Perez', '0351-12345678')\n",
      "(24, 'alexandra', 'fuller', '081-634-4903')\n",
      "(9, 'alison', 'richards', '0722-854-724')\n",
      "(11, 'alison', 'richards', '0722-854-724')\n",
      "(19, 'alison', 'richards', '0722-854-724')\n",
      "(43, 'alison', 'richards', '0722-854-724')\n",
      "(51, 'alison', 'richards', '0722-854-724')\n",
      "(55, 'alison', 'richards', '0722-854-724')\n",
      "(61, 'alison', 'richards', '0722-854-724')\n",
      "(63, 'alison', 'richards', '0722-854-724')\n",
      "(44, 'amanda', 'rhodes', '0718-917-001')\n",
      "(48, 'capucine', 'brunet', '06-51-74-14-90')\n",
      "(39, 'charlotte', 'kennedy', '081-698-0041')\n",
      "(45, 'charlotte', 'kennedy', '081-698-0041')\n",
      "(47, 'charlotte', 'kennedy', '081-698-0041')\n",
      "(60, 'charlotte', 'kennedy', '081-698-0041')\n",
      "(70, 'charlotte', 'kennedy', '081-698-0041')\n",
      "(32, 'christelle', 'henry', '(550)-421-7667')\n",
      "(12, 'ellinor', 'gebhard', '0172-2248004')\n",
      "(8, 'emilie', 'larsen', '21142742')\n",
      "(37, 'emilie', 'larsen', '21142742')\n",
      "(56, 'emilie', 'larsen', '21142742')\n",
      "(64, 'emilie', 'larsen', '21142742')\n",
      "(67, 'emilie', 'larsen', '21142742')\n",
      "(10, 'evan', 'simmmons', '081-199-7919')\n",
      "(14, 'evan', 'simmmons', '081-199-7919')\n",
      "(15, 'evan', 'simmmons', '081-199-7919')\n",
      "(42, 'evan', 'simmmons', '081-199-7919')\n",
      "(59, 'evan', 'simmmons', '081-199-7919')\n",
      "(66, 'evan', 'simmmons', '081-199-7919')\n",
      "(69, 'evan', 'simmmons', '081-199-7919')\n",
      "(71, 'evan', 'simmmons', '081-199-7919')\n",
      "(33, 'fernando', 'wright', '(106)-614-0541')\n",
      "(68, 'frances', 'lynch', '(132)-633-5704')\n",
      "(58, 'freja', 'pedersen', '30153324')\n",
      "(28, 'georges', 'francois', '(508)-317-7168')\n",
      "(22, 'gustav', 'poulsen', '40847922')\n",
      "(38, 'hebe', 'da conceição', '(02) 6242-4525')\n",
      "(25, 'ian', 'gonzalez', '0785-939-704')\n",
      "(5, 'irísia', 'barbosa', '(27) 0377-1433')\n",
      "(34, 'jill', 'andrews', '(703)-064-6159')\n",
      "(53, 'jill', 'andrews', '(703)-064-6159')\n",
      "(31, 'jimmie', 'pearson', '0727-669-524')\n",
      "(35, 'jimmie', 'pearson', '0727-669-524')\n",
      "(36, 'jimmie', 'pearson', '0727-669-524')\n",
      "(57, 'jimmie', 'pearson', '0727-669-524')\n",
      "(54, 'klaasjan', 'bertrand', '(901)-400-1619')\n",
      "(20, 'latife', 'sadıklar', '(723)-224-0586')\n",
      "(26, 'latife', 'durmaz', '(292)-716-2511')\n",
      "(49, 'leo', 'manni', '048-302-78-19')\n",
      "(18, 'luisa', 'leon', '632-570-832')\n",
      "(7, 'lílian', 'cavalcanti', '(03) 1060-5518')\n",
      "(4, 'marc', 'guerrero', '651-605-026')\n",
      "(65, 'marie-josé', 'van haastert', '(199)-817-3697')\n",
      "(13, 'minea', 'hautala', '040-429-79-03')\n",
      "(40, 'minea', 'hautala', '040-429-79-03')\n",
      "(62, 'minea', 'hautala', '040-429-79-03')\n",
      "(17, 'oscar', 'vargas', '632-274-490')\n",
      "(30, 'pauline', 'moreau', '06-87-09-52-55')\n",
      "(16, 'roderik', 'hess', '(520)-019-5621')\n",
      "(23, 'ruby', 'wright', '(564)-692-1931')\n",
      "(46, 'sidónio', 'alves', '(30) 6502-0151')\n",
      "(6, 'willow', 'edwards', '(073)-540-0847')\n",
      "(41, 'xavier', 'côté', '725-389-3925')\n",
      "(50, 'نازنین', 'سهيلي راد', '0954-951-0845')\n",
      "(52, 'نازنین', 'سهيلي راد', '0954-951-0845')\n",
      "(21, 'یلدا', 'سالاری', '0939-552-5293')\n",
      "(27, 'یلدا', 'سالاری', '0939-552-5293')\n",
      "(29, 'یلدا', 'سالاری', '0939-552-5293')\n",
      "(72, 'یلدا', 'سالاری', '0939-552-5293')\n",
      "(73, 'یلدا', 'سالاری', '0939-552-5293')\n"
     ]
    }
   ],
   "source": [
    "for alumno in cursor.execute('SELECT * FROM alumno ORDER BY first_name'):\n",
    "    print(alumno)"
   ]
  },
  {
   "cell_type": "code",
   "execution_count": 42,
   "metadata": {},
   "outputs": [
    {
     "name": "stdout",
     "output_type": "stream",
     "text": [
      "(1, 'Pedro', 'Gonzalez', '0351-12345678')\n",
      "(2, 'Rodrigo', 'Perez', '0351-12345678')\n",
      "(3, 'Gonzalo', 'Rodriguez', '0351-12345678')\n",
      "(46, 'sidónio', 'alves', '(30) 6502-0151')\n",
      "(34, 'jill', 'andrews', '(703)-064-6159')\n",
      "(53, 'jill', 'andrews', '(703)-064-6159')\n",
      "(5, 'irísia', 'barbosa', '(27) 0377-1433')\n",
      "(54, 'klaasjan', 'bertrand', '(901)-400-1619')\n",
      "(48, 'capucine', 'brunet', '06-51-74-14-90')\n",
      "(7, 'lílian', 'cavalcanti', '(03) 1060-5518')\n",
      "(41, 'xavier', 'côté', '725-389-3925')\n",
      "(38, 'hebe', 'da conceição', '(02) 6242-4525')\n",
      "(26, 'latife', 'durmaz', '(292)-716-2511')\n",
      "(6, 'willow', 'edwards', '(073)-540-0847')\n",
      "(28, 'georges', 'francois', '(508)-317-7168')\n",
      "(24, 'alexandra', 'fuller', '081-634-4903')\n",
      "(12, 'ellinor', 'gebhard', '0172-2248004')\n",
      "(25, 'ian', 'gonzalez', '0785-939-704')\n",
      "(4, 'marc', 'guerrero', '651-605-026')\n",
      "(13, 'minea', 'hautala', '040-429-79-03')\n",
      "(40, 'minea', 'hautala', '040-429-79-03')\n",
      "(62, 'minea', 'hautala', '040-429-79-03')\n",
      "(32, 'christelle', 'henry', '(550)-421-7667')\n",
      "(16, 'roderik', 'hess', '(520)-019-5621')\n",
      "(39, 'charlotte', 'kennedy', '081-698-0041')\n",
      "(45, 'charlotte', 'kennedy', '081-698-0041')\n",
      "(47, 'charlotte', 'kennedy', '081-698-0041')\n",
      "(60, 'charlotte', 'kennedy', '081-698-0041')\n",
      "(70, 'charlotte', 'kennedy', '081-698-0041')\n",
      "(8, 'emilie', 'larsen', '21142742')\n",
      "(37, 'emilie', 'larsen', '21142742')\n",
      "(56, 'emilie', 'larsen', '21142742')\n",
      "(64, 'emilie', 'larsen', '21142742')\n",
      "(67, 'emilie', 'larsen', '21142742')\n",
      "(18, 'luisa', 'leon', '632-570-832')\n",
      "(68, 'frances', 'lynch', '(132)-633-5704')\n",
      "(49, 'leo', 'manni', '048-302-78-19')\n",
      "(30, 'pauline', 'moreau', '06-87-09-52-55')\n",
      "(31, 'jimmie', 'pearson', '0727-669-524')\n",
      "(35, 'jimmie', 'pearson', '0727-669-524')\n",
      "(36, 'jimmie', 'pearson', '0727-669-524')\n",
      "(57, 'jimmie', 'pearson', '0727-669-524')\n",
      "(58, 'freja', 'pedersen', '30153324')\n",
      "(22, 'gustav', 'poulsen', '40847922')\n",
      "(44, 'amanda', 'rhodes', '0718-917-001')\n",
      "(9, 'alison', 'richards', '0722-854-724')\n",
      "(11, 'alison', 'richards', '0722-854-724')\n",
      "(19, 'alison', 'richards', '0722-854-724')\n",
      "(43, 'alison', 'richards', '0722-854-724')\n",
      "(51, 'alison', 'richards', '0722-854-724')\n",
      "(55, 'alison', 'richards', '0722-854-724')\n",
      "(61, 'alison', 'richards', '0722-854-724')\n",
      "(63, 'alison', 'richards', '0722-854-724')\n",
      "(20, 'latife', 'sadıklar', '(723)-224-0586')\n",
      "(10, 'evan', 'simmmons', '081-199-7919')\n",
      "(14, 'evan', 'simmmons', '081-199-7919')\n",
      "(15, 'evan', 'simmmons', '081-199-7919')\n",
      "(42, 'evan', 'simmmons', '081-199-7919')\n",
      "(59, 'evan', 'simmmons', '081-199-7919')\n",
      "(66, 'evan', 'simmmons', '081-199-7919')\n",
      "(69, 'evan', 'simmmons', '081-199-7919')\n",
      "(71, 'evan', 'simmmons', '081-199-7919')\n",
      "(65, 'marie-josé', 'van haastert', '(199)-817-3697')\n",
      "(17, 'oscar', 'vargas', '632-274-490')\n",
      "(23, 'ruby', 'wright', '(564)-692-1931')\n",
      "(33, 'fernando', 'wright', '(106)-614-0541')\n",
      "(21, 'یلدا', 'سالاری', '0939-552-5293')\n",
      "(27, 'یلدا', 'سالاری', '0939-552-5293')\n",
      "(29, 'یلدا', 'سالاری', '0939-552-5293')\n",
      "(72, 'یلدا', 'سالاری', '0939-552-5293')\n",
      "(73, 'یلدا', 'سالاری', '0939-552-5293')\n",
      "(50, 'نازنین', 'سهيلي راد', '0954-951-0845')\n",
      "(52, 'نازنین', 'سهيلي راد', '0954-951-0845')\n"
     ]
    }
   ],
   "source": [
    "for alumno in cursor.execute('SELECT * FROM alumno ORDER BY last_name'):\n",
    "    print(alumno)"
   ]
  },
  {
   "cell_type": "code",
   "execution_count": 44,
   "metadata": {},
   "outputs": [
    {
     "name": "stdout",
     "output_type": "stream",
     "text": [
      "(3, 'Gonzalo', 'Rodriguez', '0351-12345678')\n",
      "(1, 'Pedro', 'Gonzalez', '0351-12345678')\n",
      "(2, 'Rodrigo', 'Perez', '0351-12345678')\n",
      "(24, 'alexandra', 'fuller', '081-634-4903')\n",
      "(9, 'alison', 'richards', '0722-854-724')\n",
      "(11, 'alison', 'richards', '0722-854-724')\n",
      "(19, 'alison', 'richards', '0722-854-724')\n",
      "(43, 'alison', 'richards', '0722-854-724')\n",
      "(51, 'alison', 'richards', '0722-854-724')\n",
      "(55, 'alison', 'richards', '0722-854-724')\n",
      "(61, 'alison', 'richards', '0722-854-724')\n",
      "(63, 'alison', 'richards', '0722-854-724')\n",
      "(44, 'amanda', 'rhodes', '0718-917-001')\n",
      "(48, 'capucine', 'brunet', '06-51-74-14-90')\n",
      "(39, 'charlotte', 'kennedy', '081-698-0041')\n",
      "(45, 'charlotte', 'kennedy', '081-698-0041')\n",
      "(47, 'charlotte', 'kennedy', '081-698-0041')\n",
      "(60, 'charlotte', 'kennedy', '081-698-0041')\n",
      "(70, 'charlotte', 'kennedy', '081-698-0041')\n",
      "(32, 'christelle', 'henry', '(550)-421-7667')\n",
      "(12, 'ellinor', 'gebhard', '0172-2248004')\n",
      "(8, 'emilie', 'larsen', '21142742')\n",
      "(37, 'emilie', 'larsen', '21142742')\n",
      "(56, 'emilie', 'larsen', '21142742')\n",
      "(64, 'emilie', 'larsen', '21142742')\n",
      "(67, 'emilie', 'larsen', '21142742')\n",
      "(10, 'evan', 'simmmons', '081-199-7919')\n",
      "(14, 'evan', 'simmmons', '081-199-7919')\n",
      "(15, 'evan', 'simmmons', '081-199-7919')\n",
      "(42, 'evan', 'simmmons', '081-199-7919')\n",
      "(59, 'evan', 'simmmons', '081-199-7919')\n",
      "(66, 'evan', 'simmmons', '081-199-7919')\n",
      "(69, 'evan', 'simmmons', '081-199-7919')\n",
      "(71, 'evan', 'simmmons', '081-199-7919')\n",
      "(33, 'fernando', 'wright', '(106)-614-0541')\n",
      "(68, 'frances', 'lynch', '(132)-633-5704')\n",
      "(58, 'freja', 'pedersen', '30153324')\n",
      "(28, 'georges', 'francois', '(508)-317-7168')\n",
      "(22, 'gustav', 'poulsen', '40847922')\n",
      "(38, 'hebe', 'da conceição', '(02) 6242-4525')\n",
      "(25, 'ian', 'gonzalez', '0785-939-704')\n",
      "(5, 'irísia', 'barbosa', '(27) 0377-1433')\n",
      "(34, 'jill', 'andrews', '(703)-064-6159')\n",
      "(53, 'jill', 'andrews', '(703)-064-6159')\n",
      "(31, 'jimmie', 'pearson', '0727-669-524')\n",
      "(35, 'jimmie', 'pearson', '0727-669-524')\n",
      "(36, 'jimmie', 'pearson', '0727-669-524')\n",
      "(57, 'jimmie', 'pearson', '0727-669-524')\n",
      "(54, 'klaasjan', 'bertrand', '(901)-400-1619')\n",
      "(20, 'latife', 'sadıklar', '(723)-224-0586')\n",
      "(26, 'latife', 'durmaz', '(292)-716-2511')\n",
      "(49, 'leo', 'manni', '048-302-78-19')\n",
      "(18, 'luisa', 'leon', '632-570-832')\n",
      "(7, 'lílian', 'cavalcanti', '(03) 1060-5518')\n",
      "(4, 'marc', 'guerrero', '651-605-026')\n",
      "(65, 'marie-josé', 'van haastert', '(199)-817-3697')\n",
      "(13, 'minea', 'hautala', '040-429-79-03')\n",
      "(40, 'minea', 'hautala', '040-429-79-03')\n",
      "(62, 'minea', 'hautala', '040-429-79-03')\n",
      "(17, 'oscar', 'vargas', '632-274-490')\n",
      "(30, 'pauline', 'moreau', '06-87-09-52-55')\n",
      "(16, 'roderik', 'hess', '(520)-019-5621')\n",
      "(23, 'ruby', 'wright', '(564)-692-1931')\n",
      "(46, 'sidónio', 'alves', '(30) 6502-0151')\n",
      "(6, 'willow', 'edwards', '(073)-540-0847')\n",
      "(41, 'xavier', 'côté', '725-389-3925')\n",
      "(50, 'نازنین', 'سهيلي راد', '0954-951-0845')\n",
      "(52, 'نازنین', 'سهيلي راد', '0954-951-0845')\n",
      "(21, 'یلدا', 'سالاری', '0939-552-5293')\n",
      "(27, 'یلدا', 'سالاری', '0939-552-5293')\n",
      "(29, 'یلدا', 'سالاری', '0939-552-5293')\n",
      "(72, 'یلدا', 'سالاری', '0939-552-5293')\n",
      "(73, 'یلدا', 'سالاری', '0939-552-5293')\n"
     ]
    }
   ],
   "source": [
    "for alumno in cursor.execute('SELECT * FROM alumno ORDER BY first_name ASC'):\n",
    "    print(alumno)"
   ]
  },
  {
   "cell_type": "code",
   "execution_count": 16,
   "metadata": {},
   "outputs": [],
   "source": [
    "import requests\n",
    "import csv"
   ]
  },
  {
   "cell_type": "code",
   "execution_count": 22,
   "metadata": {},
   "outputs": [],
   "source": [
    "def generate_user():\n",
    "    # Solicitamos un usuario random\n",
    "    data = requests.get(\"https://randomuser.me/api/\")\n",
    "    # la respuesta es un json\n",
    "    response = data.json()\n",
    "    # obtenemos los resulados\n",
    "    results = response[\"results\"]\n",
    "    # nos quedamos con el primero (unico)\n",
    "    user = results[0]\n",
    "    cell = user[\"cell\"]\n",
    "    return [user[\"name\"][\"first\"], user[\"name\"][\"last\"], cell]"
   ]
  },
  {
   "cell_type": "code",
   "execution_count": 26,
   "metadata": {},
   "outputs": [],
   "source": [
    "alumno_id = 34\n",
    "for i in range(40):\n",
    "    user = generate_user()\n",
    "    data = [alumno_id] + user\n",
    "    cursor.execute(\"\"\"insert into alumno values (?, ?, ?, ?)\"\"\", data)\n",
    "    alumno_id += 1"
   ]
  },
  {
   "cell_type": "code",
   "execution_count": 27,
   "metadata": {},
   "outputs": [],
   "source": [
    "conn.commit()"
   ]
  },
  {
   "cell_type": "code",
   "execution_count": null,
   "metadata": {},
   "outputs": [],
   "source": []
  }
 ],
 "metadata": {
  "kernelspec": {
   "display_name": "Python 3",
   "language": "python",
   "name": "python3"
  },
  "language_info": {
   "codemirror_mode": {
    "name": "ipython",
    "version": 3
   },
   "file_extension": ".py",
   "mimetype": "text/x-python",
   "name": "python",
   "nbconvert_exporter": "python",
   "pygments_lexer": "ipython3",
   "version": "3.7.3"
  }
 },
 "nbformat": 4,
 "nbformat_minor": 2
}
