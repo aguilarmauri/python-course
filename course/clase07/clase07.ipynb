{
 "cells": [
  {
   "cell_type": "markdown",
   "metadata": {},
   "source": [
    "# Formularios de Django"
   ]
  },
  {
   "cell_type": "markdown",
   "metadata": {},
   "source": [
    "Vamos crear una forma agradable de agregar y editar posts en el blog. El admin de Django está bien, pero es bastante difícil de personalizar y hacerlo bonito. Con forms tendremos un poder absoluto sobre nuestra interfaz; ¡podemos hacer casi cualquier cosa que podamos imaginar!\n",
    "\n",
    "Lo bueno de los formularios de Django es que podemos definirlos desde cero o crear un `ModelForm`, el cual guardará el resultado del formulario en el modelo.\n",
    "\n",
    "Esto es exactamente lo que queremos hacer: crearemos un formulario para nuestro modelo `Post`.\n",
    "\n",
    "Como cada parte importante de Django, los formularios tienen su propio archivo: `forms.py`.\n",
    "\n",
    "Necesitamos crear un archivo con este nombre en el directorio `blog`."
   ]
  },
  {
   "cell_type": "markdown",
   "metadata": {},
   "source": [
    "```bash\n",
    "blog\n",
    "   └── forms.py\n",
    "```"
   ]
  },
  {
   "cell_type": "markdown",
   "metadata": {},
   "source": [
    "Lo abrimos en el editor de código y teclea lo siguiente:"
   ]
  },
  {
   "cell_type": "markdown",
   "metadata": {},
   "source": [
    "```python\n",
    "from django import forms\n",
    "\n",
    "from .models import Post\n",
    "\n",
    "class PostForm(forms.ModelForm):\n",
    "\n",
    "    class Meta:\n",
    "        model = Post\n",
    "        fields = ('title', 'text',)\n",
    "```"
   ]
  },
  {
   "cell_type": "markdown",
   "metadata": {},
   "source": [
    "Lo primero, necesitamos importar Django forms (`from django import forms`) y nuestro modelo `Post` (`from .models import Post`).\n",
    "\n",
    "`PostForm`, como probablemente sospechas, es el nombre de nuestro formulario. Necesitamos decirle a Django que este formulario es un `ModelForm` (así Django hará algo de magia por nosotros) - `forms.ModelForm` es responsable de ello.\n",
    "\n",
    "Luego, tenemos `class Meta`, donde le decimos a Django que modelo debe ser utilizado para crear este formulario (`model = Post`).\n",
    "\n",
    "Finalmente, podemos decir que campo(s) deberían estar en nuestro formulario. En este escenario sólo queremos `title` y `text` para ser mostrados - `author` será la persona que esta conectada y `created_date` se definirá automáticamente cuando creemos un post (es decir, en el código).\n",
    "\n",
    "¡Y eso es todo! Todo lo que necesitamos hacer ahora es usar el formulario en una view y mostrarla en una plantilla.\n",
    "\n",
    "Una vez más vamos a crear: un enlace a la página, una dirección URL, una vista y una plantilla."
   ]
  },
  {
   "cell_type": "markdown",
   "metadata": {},
   "source": [
    "# Enlace a una página con el formulario"
   ]
  },
  {
   "cell_type": "markdown",
   "metadata": {},
   "source": [
    "Ahora toca abrir el fichero `blog_curso/templates/blog_curso/post_list.html` en el editor. Vamos a añadir un enlace en el div llamado page-header:"
   ]
  },
  {
   "cell_type": "markdown",
   "metadata": {},
   "source": [
    "```html\n",
    "<a href=\"{% url 'posts_new' %}\" class=\"button\"><span class=\"glyphicon glyphicon-plus\"></span> Agregar Post</a>\n",
    "```"
   ]
  },
  {
   "cell_type": "markdown",
   "metadata": {},
   "source": [
    "Ten en cuenta que queremos llamar a nuestra nueva vista post_new. La clase `\"glyphicon glyphicon-plus\"` es proporcionada por el tema de bootstrap que estamos utilizando, y nos mostrara un signo de suma."
   ]
  },
  {
   "cell_type": "markdown",
   "metadata": {},
   "source": [
    "# URL"
   ]
  },
  {
   "cell_type": "markdown",
   "metadata": {},
   "source": [
    "Abrimos `blog/urls.py` en el editor para añadir una línea:"
   ]
  },
  {
   "cell_type": "markdown",
   "metadata": {},
   "source": [
    "```python\n",
    "path('posts/new', views.post_new, name='post_new'),\n",
    "```"
   ]
  },
  {
   "cell_type": "markdown",
   "metadata": {},
   "source": [
    "Y el código final tendrá este aspecto:"
   ]
  },
  {
   "cell_type": "markdown",
   "metadata": {},
   "source": [
    "```python\n",
    "from django.contrib import admin\n",
    "from django.urls import path\n",
    "\n",
    "from blog_curso import views\n",
    "\n",
    "urlpatterns = [\n",
    "    path('admin/', admin.site.urls),\n",
    "    path('posts/', views.posts),\n",
    "    path('posts/new', views.post_new, name='posts_new'),\n",
    "]\n",
    "```"
   ]
  },
  {
   "cell_type": "markdown",
   "metadata": {},
   "source": [
    "# Vista post_new"
   ]
  },
  {
   "cell_type": "markdown",
   "metadata": {},
   "source": [
    "Ahora abre el fichero `blog/views.py` en el editor y añade estas líneas con el resto de imports from:"
   ]
  },
  {
   "cell_type": "markdown",
   "metadata": {},
   "source": [
    "```python\n",
    "from .forms import PostForm\n",
    "```"
   ]
  },
  {
   "cell_type": "markdown",
   "metadata": {},
   "source": [
    "Y ahora nuestra vista:"
   ]
  },
  {
   "cell_type": "markdown",
   "metadata": {},
   "source": [
    "```python\n",
    "from django.views.generic import FormView\n",
    "\n",
    "from .forms import PostForm\n",
    "\n",
    "\n",
    "class PostFormView(FormView):\n",
    "    form_class = PostForm\n",
    "    success_url = 'posts_list'\n",
    "    template_name = \"blog_curso/post_new.html\"\n",
    "\n",
    "    def form_valid(self, form):\n",
    "        post = form.save(commit=False)\n",
    "        post.author = self.request.user\n",
    "        post.published_date = timezone.now()\n",
    "        post.save()\n",
    "        return super(PostFormView, self).form_valid(form)\n",
    "\n",
    "post_new = PostFormView.as_view()\n",
    "```"
   ]
  },
  {
   "cell_type": "code",
   "execution_count": null,
   "metadata": {},
   "outputs": [],
   "source": []
  }
 ],
 "metadata": {
  "kernelspec": {
   "display_name": "Python 3",
   "language": "python",
   "name": "python3"
  },
  "language_info": {
   "codemirror_mode": {
    "name": "ipython",
    "version": 3
   },
   "file_extension": ".py",
   "mimetype": "text/x-python",
   "name": "python",
   "nbconvert_exporter": "python",
   "pygments_lexer": "ipython3",
   "version": "3.7.3"
  }
 },
 "nbformat": 4,
 "nbformat_minor": 2
}
