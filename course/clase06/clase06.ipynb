{
 "cells": [
  {
   "cell_type": "markdown",
   "metadata": {},
   "source": [
    "# Modelos en Django"
   ]
  },
  {
   "cell_type": "markdown",
   "metadata": {},
   "source": [
    "Lo que queremos crear ahora es algo que almacene todas las entradas de nuestro blog. Pero para poder hacerlo tenemos que hablar un poco sobre algo llamado `objetos`."
   ]
  },
  {
   "cell_type": "markdown",
   "metadata": {},
   "source": [
    "# Objetos"
   ]
  },
  {
   "cell_type": "markdown",
   "metadata": {},
   "source": [
    "Hay un concepto en el mundo de la programación llamado `programación orientada a objetos`. La idea es que en lugar de escribir todo como una aburrida secuencia de instrucciones de programación podemos modelar cosas y definir cómo interactúan entre ellas.\n",
    "\n",
    "Entonces, ¿qué es un objeto? Es un conjunto de propiedades y acciones. Suena raro, pero te daremos un ejemplo.\n",
    "\n",
    "Si queremos modelar un gato crearemos un objeto `Gato` que tiene algunas propiedades como: `color`, `edad`, `temperamento` (como bueno, malo, o dormilón ;)), y `dueño` (este es un objeto Persona o en caso de un gato callejero, esta propiedad está vacía).\n",
    "\n",
    "Luego, el `Gato` tiene algunas acciones como: `ronronear`, `arañar` o `alimentar` (en cuyo caso daremos al gato algo de `ComidaDeGato`, el cual debería ser un objeto aparte con propiedades como `sabor`)."
   ]
  },
  {
   "cell_type": "markdown",
   "metadata": {},
   "source": [
    "```\n",
    "Gato\n",
    "---------\n",
    "color \n",
    "edad \n",
    "humor \n",
    "dueño \n",
    "ronronear() \n",
    "rasguñar() \n",
    "alimentarse(comida_de_gato) \n",
    "\n",
    "ComidaDeGato\n",
    "----------\n",
    "sabor\n",
    "\n",
    "```"
   ]
  },
  {
   "cell_type": "markdown",
   "metadata": {},
   "source": [
    "Básicamente se trata de describir cosas reales en el código con propiedades (llamadas `propiedades del objeto`) y las acciones (llamadas `métodos`).\n",
    "\n",
    "Y ahora, ¿cómo modelamos las entradas en el blog? Queremos construir un blog, ¿no?\n",
    "\n",
    "Necesitamos responder a la pregunta: ¿Qué es una entrada de un blog? ¿Qué propiedades debería tener?\n",
    "\n",
    "Bueno, seguro que nuestras entradas de blog necesitan un texto con su contenido y un título, ¿cierto? También sería bueno saber quién lo escribió, así que necesitamos un autor. Por último, queremos saber cuándo se creó y publicó la entrada."
   ]
  },
  {
   "cell_type": "markdown",
   "metadata": {},
   "source": [
    "```\n",
    "Post\n",
    "--------\n",
    "title\n",
    "text\n",
    "author\n",
    "created_date\n",
    "published_date\n",
    "```"
   ]
  },
  {
   "cell_type": "markdown",
   "metadata": {},
   "source": [
    "¿Qué tipo de cosas podría hacerse con una entrada del blog? Sería bueno tener algún `método` que publique la entrada, ¿no?\n",
    "\n",
    "Así que vamos a necesitar el método `publicar`.\n",
    "\n",
    "Puesto que ya sabemos lo que queremos lograr, ¡podemos empezar a modelarlo en Django!"
   ]
  },
  {
   "cell_type": "markdown",
   "metadata": {},
   "source": [
    "# Modelos en Django"
   ]
  },
  {
   "cell_type": "markdown",
   "metadata": {},
   "source": [
    "Sabiendo qué es un objeto, podemos crear un modelo en Django para nuestros entradas de blog.\n",
    "\n",
    "Un modelo en Django es un tipo especial de objeto que se guarda en la `base de datos`. Una base de datos es una colección de datos. Es un lugar en el cual almacenarás la información sobre usuarios, tus entradas de blog, etc. Utilizaremos una base de datos SQLite para almacenar nuestros datos. Este es el adaptador de base de datos predeterminado en Django -- será suficiente para nosotros por ahora.\n",
    "\n",
    "Puedes pensar el modelo en la base de datos, como una hoja de cálculo con columnas (campos) y filas (datos).\n"
   ]
  },
  {
   "cell_type": "markdown",
   "metadata": {},
   "source": [
    "# Crear una aplicación"
   ]
  },
  {
   "cell_type": "markdown",
   "metadata": {},
   "source": [
    "Para mantener todo en orden, crearemos una aplicación separada dentro de nuestro proyecto. Es muy bueno tener todo organizado desde el principio. Para crear una aplicación, necesitamos ejecutar el siguiente comando en la consola (dentro de la carpeta de blog donde está el archivo manage.py):"
   ]
  },
  {
   "cell_type": "markdown",
   "metadata": {},
   "source": [
    "```\n",
    "(myvenv) ~/blog$ python manage.py startapp blog_curso\n",
    "```"
   ]
  },
  {
   "cell_type": "markdown",
   "metadata": {},
   "source": [
    "Notarás que se ha creado un nuevo directorio blog_curso y ahora contiene una cantidad de archivos. Los directorios y archivos en nuestro proyecto deberían verse así:"
   ]
  },
  {
   "cell_type": "markdown",
   "metadata": {},
   "source": [
    "```\n",
    "blog\n",
    "├── blog_curso\n",
    "│   ├── __init__.py\n",
    "│   ├── admin.py\n",
    "│   ├── apps.py\n",
    "│   ├── migrations\n",
    "│   │   └── __init__.py\n",
    "│   ├── models.py\n",
    "│   ├── tests.py\n",
    "│   └── views.py\n",
    "├── db.sqlite3\n",
    "├── manage.py\n",
    "├── mysite\n",
    "│   ├── __init__.py\n",
    "│   ├── settings.py\n",
    "│   ├── urls.py\n",
    "│   └── wsgi.py\n",
    "└── requirements.txt\n",
    "```"
   ]
  },
  {
   "cell_type": "markdown",
   "metadata": {},
   "source": [
    "Después de crear una aplicación, también necesitamos decirle a Django que debe utilizarla. Eso se hace en el fichero blog/settings.py -- ábrelo en el editor. Tenemos que encontrar INSTALLED_APPS y agregar una línea que contiene 'blog', justo por encima de ]. El producto final debe tener este aspecto:"
   ]
  },
  {
   "cell_type": "markdown",
   "metadata": {},
   "source": [
    "```\n",
    "# blog/settings.py\n",
    "\n",
    "INSTALLED_APPS = [\n",
    "    'django.contrib.admin',\n",
    "    'django.contrib.auth',\n",
    "    'django.contrib.contenttypes',\n",
    "    'django.contrib.sessions',\n",
    "    'django.contrib.messages',\n",
    "    'django.contrib.staticfiles',\n",
    "\n",
    "    'blog_curso',\n",
    "]\n",
    "```"
   ]
  },
  {
   "cell_type": "markdown",
   "metadata": {},
   "source": [
    "# Crear el modelo del Post"
   ]
  },
  {
   "cell_type": "markdown",
   "metadata": {},
   "source": [
    "```python\n",
    "# blog/blog/models.py\n",
    "from django.db import models\n",
    "from django.utils import timezone\n",
    "\n",
    "\n",
    "class Post(models.Model):\n",
    "    author = models.ForeignKey('auth.User', on_delete=models.CASCADE)\n",
    "    title = models.CharField(max_length=200)\n",
    "    text = models.TextField()\n",
    "    created_date = models.DateTimeField(\n",
    "            default=timezone.now, blank=False, null=False)\n",
    "    published_date = models.DateTimeField(\n",
    "            blank=True, null=True)\n",
    "\n",
    "    def publish(self):\n",
    "        self.published_date = timezone.now()\n",
    "        self.save()\n",
    "\n",
    "    def __str__(self):\n",
    "        return self.title\n",
    "```"
   ]
  },
  {
   "cell_type": "markdown",
   "metadata": {},
   "source": [
    "Todas las líneas que comienzan con `from` o `import` son líneas para agregar algo de otros archivos. Así que en vez de copiar y pegar las mismas cosas en cada archivo, podemos incluir algunas partes con `from... import ....`\n",
    "\n",
    "\n",
    "`class Post(models.Model):` esta línea define nuestro modelo (es un `objeto`).\n",
    "\n",
    " * `class` es una palabra clave que indica que estamos definiendo un objeto.\n",
    " * `Post` es el nombre de nuestro modelo. Podemos darle un nombre diferente (pero debemos evitar espacios en blanco y caracteres especiales). Siempre inicia el nombre de una clase con una letra mayúscula.\n",
    " * `models.Model` significa que Post es un modelo de Django, así Django sabe que debe guardarlo en la base de datos.\n",
    "\n",
    "\n",
    "Ahora definimos las propiedades de las que hablábamos: `title`, `text`, `created_date`, `published_date` y `author`. Para ello tenemos que definir el tipo de cada campo (¿es texto? ¿un número? ¿una fecha? ¿una relación con otro objeto como un User (usuario)?)\n",
    "\n",
    " * `models.CharField`, así es como defines un texto con un número limitado de caracteres.\n",
    " * models.TextField, este es para texto largo sin límite. Suena perfecto para el contenido de la entrada del blog, ¿no?\n",
    " * `models.DateTimeField`, este es fecha y hora.\n",
    " * `modelos.ForeignKey`, este es una relación (link) con otro modelo.\n"
   ]
  },
  {
   "cell_type": "markdown",
   "metadata": {},
   "source": [
    "# Crear tablas para los modelos en tu base de datos"
   ]
  },
  {
   "cell_type": "markdown",
   "metadata": {},
   "source": [
    "El último paso aquí es agregar nuestro nuevo modelo a la base de datos. Primero tenemos que hacer saber a Django que hemos hecho cambios en nuestro modelo. (Lo acabamos de crear!) Ve a tu terminal y escribe python manage.py makemigrations blog. Se verá así:"
   ]
  },
  {
   "cell_type": "markdown",
   "metadata": {},
   "source": [
    "```\n",
    "(myvenv) ~/blog$ python manage.py makemigrations blog_curso\n",
    "Migrations for 'blog_curso':\n",
    "  blog_curso/migrations/0001_initial.py:\n",
    "\n",
    "  - Create model Post\n",
    "```"
   ]
  },
  {
   "cell_type": "markdown",
   "metadata": {},
   "source": [
    "Django preparó un archivo de migración que ahora tenemos que aplicar a nuestra base de datos. Escribe `python manage.py migrate blog_curso` y el resultado debería ser:"
   ]
  },
  {
   "cell_type": "markdown",
   "metadata": {},
   "source": [
    "```\n",
    "(myvenv) ~/blog$ python manage.py migrate blog_curso\n",
    "Operations to perform:\n",
    "  Apply all migrations: blog\n",
    "Running migrations:\n",
    "  Applying blog.0001_initial... OK\n",
    "```"
   ]
  },
  {
   "cell_type": "markdown",
   "metadata": {},
   "source": [
    "```\n",
    "$ python manage.py migrate # migraciones de todo el proyecto\n",
    "$ python manage.py createsuperuser\n",
    "Username (leave blank to use 'user'): admin\n",
    "Email address: admin@admin.com\n",
    "Password:\n",
    "Password (again):\n",
    "The password is too similar to the username.\n",
    "This password is too short. It must contain at least 8 characters.\n",
    "This password is too common.\n",
    "Bypass password validation and create user anyway? [y/N]: y\n",
    "Superuser created successfully.\n",
    "```"
   ]
  },
  {
   "cell_type": "markdown",
   "metadata": {},
   "source": [
    "# Correr el proyecto django"
   ]
  },
  {
   "cell_type": "markdown",
   "metadata": {},
   "source": [
    "```\n",
    "$ python manage.py runserver\n",
    "```"
   ]
  },
  {
   "cell_type": "markdown",
   "metadata": {},
   "source": [
    "```\n",
    "from django.contrib import admin\n",
    "\n",
    "from .models import Post\n",
    "\n",
    "admin.site.register(Post)\n",
    "```"
   ]
  },
  {
   "cell_type": "markdown",
   "metadata": {},
   "source": [
    "# Modificar views.py"
   ]
  },
  {
   "cell_type": "markdown",
   "metadata": {},
   "source": [
    "```python\n",
    "from django.views.generic import ListView\n",
    "\n",
    "from .models import Post\n",
    "\n",
    "\n",
    "class PostListView(ListView):\n",
    "\n",
    "    model = Post\n",
    "    template_name = \"blog_curso/post_list.html\"\n",
    "\n",
    "\n",
    "posts = PostListView.as_view()\n",
    "```"
   ]
  },
  {
   "cell_type": "code",
   "execution_count": null,
   "metadata": {},
   "outputs": [],
   "source": []
  }
 ],
 "metadata": {
  "kernelspec": {
   "display_name": "Python 3",
   "language": "python",
   "name": "python3"
  },
  "language_info": {
   "codemirror_mode": {
    "name": "ipython",
    "version": 3
   },
   "file_extension": ".py",
   "mimetype": "text/x-python",
   "name": "python",
   "nbconvert_exporter": "python",
   "pygments_lexer": "ipython3",
   "version": "3.7.3"
  }
 },
 "nbformat": 4,
 "nbformat_minor": 2
}
