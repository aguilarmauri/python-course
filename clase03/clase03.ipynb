{
 "cells": [
  {
   "cell_type": "code",
   "execution_count": 6,
   "metadata": {
    "scrolled": false
   },
   "outputs": [
    {
     "name": "stdout",
     "output_type": "stream",
     "text": [
      "['florian dumont', 'florian.dumont@example.com', 'https://randomuser.me/api/portraits/thumb/men/63.jpg', '06-21-57-29-81']\n",
      "['karen armstrong', 'karen.armstrong@example.com', 'https://randomuser.me/api/portraits/thumb/women/45.jpg', '0788-315-085']\n",
      "['\\xd8\\xa2\\xdb\\x8c\\xd9\\x86\\xd8\\xa7\\xd8\\xb2 \\xda\\xa9\\xd9\\x88\\xd8\\xaa\\xdb\\x8c', '\\xd8\\xa2\\xdb\\x8c\\xd9\\x86\\xd8\\xa7\\xd8\\xb2.\\xda\\xa9\\xd9\\x88\\xd8\\xaa\\xdb\\x8c@example.com', 'https://randomuser.me/api/portraits/thumb/women/15.jpg', '0944-756-4215']\n",
      "['abigail thomas', 'abigail.thomas@example.com', 'https://randomuser.me/api/portraits/thumb/women/56.jpg', '(141)-468-2182']\n",
      "['alfredo horton', 'alfredo.horton@example.com', 'https://randomuser.me/api/portraits/thumb/men/43.jpg', '0751-163-313']\n",
      "['abigail armstrong', 'abigail.armstrong@example.com', 'https://randomuser.me/api/portraits/thumb/women/53.jpg', '081-896-7450']\n",
      "['onira fernandes', 'onira.fernandes@example.com', 'https://randomuser.me/api/portraits/thumb/women/41.jpg', '(96) 4144-5662']\n",
      "['\\xd8\\xba\\xd8\\xb2\\xd9\\x84 \\xd9\\x85\\xd8\\xb1\\xd8\\xa7\\xd8\\xaf\\xdb\\x8c', '\\xd8\\xba\\xd8\\xb2\\xd9\\x84.\\xd9\\x85\\xd8\\xb1\\xd8\\xa7\\xd8\\xaf\\xdb\\x8c@example.com', 'https://randomuser.me/api/portraits/thumb/women/66.jpg', '0965-171-8234']\n",
      "['felix kristensen', 'felix.kristensen@example.com', 'https://randomuser.me/api/portraits/thumb/men/52.jpg', '26520283']\n",
      "['anton madsen', 'anton.madsen@example.com', 'https://randomuser.me/api/portraits/thumb/men/99.jpg', '67438118']\n",
      "['eetu elo', 'eetu.elo@example.com', 'https://randomuser.me/api/portraits/thumb/men/85.jpg', '040-344-98-60']\n",
      "['fran\\xc3\\xa7ois dupont', 'fran\\xc3\\xa7ois.dupont@example.com', 'https://randomuser.me/api/portraits/thumb/men/34.jpg', '(038)-732-5047']\n",
      "['fatih adal', 'fatih.adal@example.com', 'https://randomuser.me/api/portraits/thumb/men/83.jpg', '(533)-697-7719']\n",
      "['ignacio blanco', 'ignacio.blanco@example.com', 'https://randomuser.me/api/portraits/thumb/men/9.jpg', '696-440-817']\n",
      "['vicky sanders', 'vicky.sanders@example.com', 'https://randomuser.me/api/portraits/thumb/women/2.jpg', '081-809-9575']\n",
      "['hermano moura', 'hermano.moura@example.com', 'https://randomuser.me/api/portraits/thumb/men/95.jpg', '(06) 1458-3095']\n",
      "['denis tappe', 'denis.tappe@example.com', 'https://randomuser.me/api/portraits/thumb/men/19.jpg', '0179-0846403']\n",
      "['romy bischoff', 'romy.bischoff@example.com', 'https://randomuser.me/api/portraits/thumb/women/29.jpg', '0170-5774757']\n",
      "['ronnie howard', 'ronnie.howard@example.com', 'https://randomuser.me/api/portraits/thumb/men/2.jpg', '0744-472-049']\n",
      "['houssain engberts', 'houssain.engberts@example.com', 'https://randomuser.me/api/portraits/thumb/men/63.jpg', '(745)-736-5027']\n"
     ]
    }
   ],
   "source": [
    "import csv\n",
    "datos = []\n",
    "with open(\"./test.csv\", \"r\") as csvfile:\n",
    "    csv_reader = csv.reader(csvfile)\n",
    "    for row in csv_reader:\n",
    "        print(row)\n",
    "        datos.append(row)"
   ]
  },
  {
   "cell_type": "code",
   "execution_count": 17,
   "metadata": {},
   "outputs": [],
   "source": [
    "class Estudiante(object):\n",
    "    def __init__(self,nombre,email,github,telefono):\n",
    "        self.nombre = nombre\n",
    "        self.email = email\n",
    "        self.github = github\n",
    "        self.telefono = telefono\n",
    "        \n",
    "    def __repr__(self):\n",
    "        return \"Estudiante: {}\".format(self.nombre)\n",
    "\n",
    "    def __str__(self):\n",
    "        return \"Estudiante: \"+self.nombre+\" \"+self.email+\" \"+self.github+\" \"+str(self.telefono)"
   ]
  },
  {
   "cell_type": "code",
   "execution_count": 19,
   "metadata": {},
   "outputs": [],
   "source": [
    "estudiantes = []\n",
    "for row in datos:\n",
    "    nombre, email, github, telefono = row\n",
    "    estudiantes.append(Estudiante(nombre, email, github, telefono))"
   ]
  },
  {
   "cell_type": "code",
   "execution_count": 20,
   "metadata": {},
   "outputs": [
    {
     "name": "stdout",
     "output_type": "stream",
     "text": [
      "Estudiante: florian dumont florian.dumont@example.com https://randomuser.me/api/portraits/thumb/men/63.jpg 06-21-57-29-81\n",
      "Estudiante: karen armstrong karen.armstrong@example.com https://randomuser.me/api/portraits/thumb/women/45.jpg 0788-315-085\n",
      "Estudiante: آیناز کوتی آیناز.کوتی@example.com https://randomuser.me/api/portraits/thumb/women/15.jpg 0944-756-4215\n",
      "Estudiante: abigail thomas abigail.thomas@example.com https://randomuser.me/api/portraits/thumb/women/56.jpg (141)-468-2182\n",
      "Estudiante: alfredo horton alfredo.horton@example.com https://randomuser.me/api/portraits/thumb/men/43.jpg 0751-163-313\n",
      "Estudiante: abigail armstrong abigail.armstrong@example.com https://randomuser.me/api/portraits/thumb/women/53.jpg 081-896-7450\n",
      "Estudiante: onira fernandes onira.fernandes@example.com https://randomuser.me/api/portraits/thumb/women/41.jpg (96) 4144-5662\n",
      "Estudiante: غزل مرادی غزل.مرادی@example.com https://randomuser.me/api/portraits/thumb/women/66.jpg 0965-171-8234\n",
      "Estudiante: felix kristensen felix.kristensen@example.com https://randomuser.me/api/portraits/thumb/men/52.jpg 26520283\n",
      "Estudiante: anton madsen anton.madsen@example.com https://randomuser.me/api/portraits/thumb/men/99.jpg 67438118\n",
      "Estudiante: eetu elo eetu.elo@example.com https://randomuser.me/api/portraits/thumb/men/85.jpg 040-344-98-60\n",
      "Estudiante: françois dupont françois.dupont@example.com https://randomuser.me/api/portraits/thumb/men/34.jpg (038)-732-5047\n",
      "Estudiante: fatih adal fatih.adal@example.com https://randomuser.me/api/portraits/thumb/men/83.jpg (533)-697-7719\n",
      "Estudiante: ignacio blanco ignacio.blanco@example.com https://randomuser.me/api/portraits/thumb/men/9.jpg 696-440-817\n",
      "Estudiante: vicky sanders vicky.sanders@example.com https://randomuser.me/api/portraits/thumb/women/2.jpg 081-809-9575\n",
      "Estudiante: hermano moura hermano.moura@example.com https://randomuser.me/api/portraits/thumb/men/95.jpg (06) 1458-3095\n",
      "Estudiante: denis tappe denis.tappe@example.com https://randomuser.me/api/portraits/thumb/men/19.jpg 0179-0846403\n",
      "Estudiante: romy bischoff romy.bischoff@example.com https://randomuser.me/api/portraits/thumb/women/29.jpg 0170-5774757\n",
      "Estudiante: ronnie howard ronnie.howard@example.com https://randomuser.me/api/portraits/thumb/men/2.jpg 0744-472-049\n",
      "Estudiante: houssain engberts houssain.engberts@example.com https://randomuser.me/api/portraits/thumb/men/63.jpg (745)-736-5027\n"
     ]
    }
   ],
   "source": [
    "for estudiante in estudiantes:\n",
    "    print(estudiante)"
   ]
  },
  {
   "cell_type": "code",
   "execution_count": 1,
   "metadata": {},
   "outputs": [],
   "source": []
  },
  {
   "cell_type": "code",
   "execution_count": null,
   "metadata": {},
   "outputs": [],
   "source": []
  },
  {
   "cell_type": "code",
   "execution_count": null,
   "metadata": {},
   "outputs": [],
   "source": []
  }
 ],
 "metadata": {
  "kernelspec": {
   "display_name": "Python 2",
   "language": "python",
   "name": "python2"
  },
  "language_info": {
   "codemirror_mode": {
    "name": "ipython",
    "version": 2
   },
   "file_extension": ".py",
   "mimetype": "text/x-python",
   "name": "python",
   "nbconvert_exporter": "python",
   "pygments_lexer": "ipython2",
   "version": "2.7.15+"
  }
 },
 "nbformat": 4,
 "nbformat_minor": 2
}
