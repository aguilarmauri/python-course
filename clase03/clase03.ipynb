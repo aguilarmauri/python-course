{
 "cells": [
  {
   "cell_type": "code",
   "execution_count": 3,
   "metadata": {},
   "outputs": [],
   "source": [
    "import csv"
   ]
  },
  {
   "cell_type": "code",
   "execution_count": 11,
   "metadata": {
    "scrolled": false
   },
   "outputs": [
    {
     "name": "stdout",
     "output_type": "stream",
     "text": [
      "['Francisco Casse', 'panchocasse@gmail.com', 'https://github.com/topopox', '3854201483', '385401483', '3854201483']\n",
      "['Romina Beccaria', 'romibeccaria1@gmail.com', 'https://github.com/RomiBecc', '3516609777', '3516609777', '3516609777']\n",
      "['Candellero Gonzalo', 'gonza_la24@hotmail.com', '', '351-3678516', '351-3678516', '351-3678516']\n",
      "['Mauricio Aguilar', 'aguilarmauri@gmail.com', 'https://github.com/mauriaguilar', '3513195143', '3513195143', '3513195143']\n",
      "['Matías Ortíz', 'tikithorsen@hotmail.com', 'https://github.com/TikiThorsen', '3517736918', '3517736918', '3517796918']\n",
      "['Emiliano Raparo', 'eraparo@gmail.com', '', '3516153711', '3516153711', '3516153711']\n",
      "['Federico M. Roux Araya', 'federicoroux@gmail.com', 'https://github.com/FedericoRoux', '3516667832', '3516667832', '3516667832']\n",
      "['renzo gastón bernal', 'renzo.g.bernal@gmail.com', '', '3512696068', '3512696068', '3512696068']\n",
      "['Gabriel S.Gonzalez', 'gabrielsebastian@gmail.com', 'https://github.com/gabrielsebagonzalez', '3516759791', '', '3516759791']\n",
      "['Nicolas Martin Raffa', 'martinraffa22@gmail.com', 'https://github.com/martinraffa22', '3884478298', '', '3884478298']\n",
      "['Rivero Romina', 'romina_rivero10@hotmail.com', '', '2974098564', '2974098564', '2974098564']\n",
      "['Juan pablo palma', 'palmajup@gmail.com', 'https://github.com/palmajup', '3516143824', '', '3516143824']\n",
      "['Jonathan Daniel Pereyra', 'jonathandpereyra@gmail.com', '', '3512388954', '', '3512388954']\n",
      "['Agostina Abayay', 'agostinaabayay@gmail.com', 'https://github.com/agosabayay', '3512108947', '', '5493512108947']\n",
      "['Marcelo Carrasco', 'marceloacarrasco@gmail.com', 'https://github.com/marcelocarrasco/', '24944664105', '', '2494466105']\n",
      "['Malena caiado rojo', 'malenaelizabethcaiadorojo@gmail.com', '', '351 858-8789', '', '351 858-8789']\n",
      "['Silvina Amaya', 'amayasilvinah@gmail.com', 'https://github.com/SilvinaHamaya', '3513992931', '', '3513992931']\n",
      "['Sierra, Roger Eduardo', 'roii.sierra@hotmail.com', 'https://github.com/roiicba', '3512117962', '', '3512117962']\n",
      "['Gastón Rosso', 'gastonrossoinc@gmail.com', 'https://github.com/rossog', '3537551590', '3537551590', '3537551590']\n",
      "['Luciano Fernandez Oria', 'luciano.fernandez@incluit.com', 'https://github.com/luchostem', '3515227275', '-', '-']\n"
     ]
    }
   ],
   "source": [
    "datos = []\n",
    "with open(\"./test.csv\", \"r\") as csvfile:\n",
    "    csv_reader = csv.reader(csvfile)\n",
    "    for row in csv_reader:\n",
    "        print(row)\n",
    "        datos.append(row)"
   ]
  },
  {
   "cell_type": "code",
   "execution_count": 36,
   "metadata": {},
   "outputs": [],
   "source": [
    "class Estudiante(object):\n",
    "    def __init__(self,nombre,email,github,telefono):\n",
    "        self.nombre = nombre\n",
    "        self.email = email\n",
    "        self.github = github\n",
    "        self.telefono = telefono\n",
    "    def __repr__(self):\n",
    "        return \"Estudiante: {}\".format(self.nombre)\n",
    "\n",
    "    def __str__(self):\n",
    "        return \"Estudiante \"+self.nombre+\" \"+self.email+\" \"+self.github+\" \"+str(self.telefono)"
   ]
  },
  {
   "cell_type": "code",
   "execution_count": 37,
   "metadata": {},
   "outputs": [],
   "source": [
    "estudiantes = []\n",
    "for row in datos:\n",
    "    nombre, email, github, telefono, _, _ = row\n",
    "    estudiantes.append(Estudiante(nombre, email, github, telefono))"
   ]
  },
  {
   "cell_type": "code",
   "execution_count": null,
   "metadata": {},
   "outputs": [],
   "source": []
  },
  {
   "cell_type": "code",
   "execution_count": 39,
   "metadata": {},
   "outputs": [
    {
     "name": "stdout",
     "output_type": "stream",
     "text": [
      "Estudiante Francisco Casse panchocasse@gmail.com https://github.com/topopox 3854201483\n",
      "Estudiante Romina Beccaria romibeccaria1@gmail.com https://github.com/RomiBecc 3516609777\n",
      "Estudiante Candellero Gonzalo gonza_la24@hotmail.com  351-3678516\n",
      "Estudiante Mauricio Aguilar aguilarmauri@gmail.com https://github.com/mauriaguilar 3513195143\n",
      "Estudiante Matías Ortíz tikithorsen@hotmail.com https://github.com/TikiThorsen 3517736918\n",
      "Estudiante Emiliano Raparo eraparo@gmail.com  3516153711\n",
      "Estudiante Federico M. Roux Araya federicoroux@gmail.com https://github.com/FedericoRoux 3516667832\n",
      "Estudiante renzo gastón bernal renzo.g.bernal@gmail.com  3512696068\n",
      "Estudiante Gabriel S.Gonzalez gabrielsebastian@gmail.com https://github.com/gabrielsebagonzalez 3516759791\n",
      "Estudiante Nicolas Martin Raffa martinraffa22@gmail.com https://github.com/martinraffa22 3884478298\n",
      "Estudiante Rivero Romina romina_rivero10@hotmail.com  2974098564\n",
      "Estudiante Juan pablo palma palmajup@gmail.com https://github.com/palmajup 3516143824\n",
      "Estudiante Jonathan Daniel Pereyra jonathandpereyra@gmail.com  3512388954\n",
      "Estudiante Agostina Abayay agostinaabayay@gmail.com https://github.com/agosabayay 3512108947\n",
      "Estudiante Marcelo Carrasco marceloacarrasco@gmail.com https://github.com/marcelocarrasco/ 24944664105\n",
      "Estudiante Malena caiado rojo malenaelizabethcaiadorojo@gmail.com  351 858-8789\n",
      "Estudiante Silvina Amaya amayasilvinah@gmail.com https://github.com/SilvinaHamaya 3513992931\n",
      "Estudiante Sierra, Roger Eduardo roii.sierra@hotmail.com https://github.com/roiicba 3512117962\n",
      "Estudiante Gastón Rosso gastonrossoinc@gmail.com https://github.com/rossog 3537551590\n",
      "Estudiante Luciano Fernandez Oria luciano.fernandez@incluit.com https://github.com/luchostem 3515227275\n"
     ]
    }
   ],
   "source": [
    "for estudiante in estudiantes:\n",
    "    print(estudiante)"
   ]
  },
  {
   "cell_type": "code",
   "execution_count": null,
   "metadata": {},
   "outputs": [],
   "source": []
  }
 ],
 "metadata": {
  "kernelspec": {
   "display_name": "Python 2",
   "language": "python",
   "name": "python2"
  },
  "language_info": {
   "codemirror_mode": {
    "name": "ipython",
    "version": 2
   },
   "file_extension": ".py",
   "mimetype": "text/x-python",
   "name": "python",
   "nbconvert_exporter": "python",
   "pygments_lexer": "ipython2",
   "version": "2.7.15+"
  }
 },
 "nbformat": 4,
 "nbformat_minor": 2
}
