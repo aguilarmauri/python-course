{
 "cells": [
  {
   "cell_type": "code",
   "execution_count": null,
   "metadata": {
    "collapsed": true
   },
   "outputs": [],
   "source": [
    "import json"
   ]
  },
  {
   "cell_type": "code",
   "execution_count": 20,
   "metadata": {},
   "outputs": [
    {
     "name": "stdout",
     "output_type": "stream",
     "text": [
      "El valor hexadecimal para el color ALICEBLUE es #F0F8FF\nEl valor hexadecimal para el color ANTIQUEWHITE es #FAEBD7\nEl valor hexadecimal para el color AQUA es #00FFFF\nEl valor hexadecimal para el color AQUAMARINE es #7FFFD4\nEl valor hexadecimal para el color AZURE es #F0FFFF\nEl valor hexadecimal para el color BEIGE es #F5F5DC\nEl valor hexadecimal para el color BISQUE es #FFE4C4\nEl valor hexadecimal para el color BLACK es #000000\nEl valor hexadecimal para el color BLANCHEDALMOND es #FFEBCD\nEl valor hexadecimal para el color BLUE es #0000FF\nEl valor hexadecimal para el color BLUEVIOLET es #8A2BE2\nEl valor hexadecimal para el color BROWN es #A52A2A\n"
     ]
    }
   ],
   "source": [
    "FILE_PATH = './clase02/codigos_colores.json'\n",
    "\n",
    "with open(FILE_PATH, 'r') as input_file:\n",
    "    try:\n",
    "        data = json.load(input_file)\n",
    "    except json.JSONDecodeError:\n",
    "        print(\"El archivo especificado no tiene un JSON Válido!\")\n",
    "    else:\n",
    "        for key, value in data.items():\n",
    "            print(f\"El valor hexadecimal para el color {key.upper()} es {value.upper()}\")"
   ]
  },
  {
   "cell_type": "code",
   "execution_count": null,
   "metadata": {},
   "outputs": [],
   "source": []
  }
 ],
 "metadata": {
  "kernelspec": {
   "display_name": "Python 2",
   "language": "python",
   "name": "python2"
  },
  "language_info": {
   "codemirror_mode": {
    "name": "ipython",
    "version": 2
   },
   "file_extension": ".py",
   "mimetype": "text/x-python",
   "name": "python",
   "nbconvert_exporter": "python",
   "pygments_lexer": "ipython2",
   "version": "2.7.6"
  }
 },
 "nbformat": 4,
 "nbformat_minor": 0
}
