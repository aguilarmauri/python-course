{
 "cells": [
  {
   "cell_type": "code",
   "execution_count": 1,
   "metadata": {},
   "outputs": [],
   "source": [
    "import csv"
   ]
  },
  {
   "cell_type": "code",
   "execution_count": 4,
   "metadata": {},
   "outputs": [
    {
     "name": "stdout",
     "output_type": "stream",
     "text": [
      "['Francisco Casse', 'panchocasse@gmail.com', 'https://github.com/topopox', '3854201483', '385401483', '3854201483']\n",
      "['Romina Beccaria', 'romibeccaria1@gmail.com', 'https://github.com/RomiBecc', '3516609777', '3516609777', '3516609777']\n",
      "['Candellero Gonzalo', 'gonza_la24@hotmail.com', '', '351-3678516', '351-3678516', '351-3678516']\n",
      "['Mauricio Aguilar', 'aguilarmauri@gmail.com', 'https://github.com/mauriaguilar', '3513195143', '3513195143', '3513195143']\n",
      "['Matías Ortíz', 'tikithorsen@hotmail.com', 'https://github.com/TikiThorsen', '3517736918', '3517736918', '3517796918']\n",
      "['Emiliano Raparo', 'eraparo@gmail.com', '', '3516153711', '3516153711', '3516153711']\n",
      "['Federico M. Roux Araya', 'federicoroux@gmail.com', 'https://github.com/FedericoRoux', '3516667832', '3516667832', '3516667832']\n",
      "['renzo gastón bernal', 'renzo.g.bernal@gmail.com', '', '3512696068', '3512696068', '3512696068']\n",
      "['Gabriel S.Gonzalez', 'gabrielsebastian@gmail.com', 'https://github.com/gabrielsebagonzalez', '3516759791', '', '3516759791']\n",
      "['Nicolas Martin Raffa', 'martinraffa22@gmail.com', 'https://github.com/martinraffa22', '3884478298', '', '3884478298']\n",
      "['Rivero Romina', 'romina_rivero10@hotmail.com', '', '2974098564', '2974098564', '2974098564']\n",
      "['Juan pablo palma', 'palmajup@gmail.com', 'https://github.com/palmajup', '3516143824', '', '3516143824']\n",
      "['Jonathan Daniel Pereyra', 'jonathandpereyra@gmail.com', '', '3512388954', '', '3512388954']\n",
      "['Agostina Abayay', 'agostinaabayay@gmail.com', 'https://github.com/agosabayay', '3512108947', '', '5493512108947']\n",
      "['Marcelo Carrasco', 'marceloacarrasco@gmail.com', 'https://github.com/marcelocarrasco/', '24944664105', '', '2494466105']\n",
      "['Malena caiado rojo', 'malenaelizabethcaiadorojo@gmail.com', '', '351 858-8789', '', '351 858-8789']\n",
      "['Silvina Amaya', 'amayasilvinah@gmail.com', 'https://github.com/SilvinaHamaya', '3513992931', '', '3513992931']\n",
      "['Sierra, Roger Eduardo', 'roii.sierra@hotmail.com', 'https://github.com/roiicba', '3512117962', '', '3512117962']\n",
      "['Gastón Rosso', 'gastonrossoinc@gmail.com', 'https://github.com/rossog', '3537551590', '3537551590', '3537551590']\n",
      "['Luciano Fernandez Oria', 'luciano.fernandez@incluit.com', 'https://github.com/luchostem', '3515227275', '-', '-']\n"
     ]
    }
   ],
   "source": [
    "with open(\"./test.csv\", \"r\") as csvfile:\n",
    "    csv_reader = csv.reader(csvfile)\n",
    "    for row in csv_reader:\n",
    "        print(row)"
   ]
  },
  {
   "cell_type": "code",
   "execution_count": null,
   "metadata": {},
   "outputs": [],
   "source": []
  }
 ],
 "metadata": {
  "kernelspec": {
   "display_name": "Python 3",
   "language": "python",
   "name": "python3"
  },
  "language_info": {
   "codemirror_mode": {
    "name": "ipython",
    "version": 3
   },
   "file_extension": ".py",
   "mimetype": "text/x-python",
   "name": "python",
   "nbconvert_exporter": "python",
   "pygments_lexer": "ipython3",
   "version": "3.7.3"
  }
 },
 "nbformat": 4,
 "nbformat_minor": 2
}
